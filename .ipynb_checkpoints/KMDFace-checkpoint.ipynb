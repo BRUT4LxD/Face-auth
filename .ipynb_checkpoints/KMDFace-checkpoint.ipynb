{
 "cells": [
  {
   "cell_type": "code",
   "execution_count": 6,
   "metadata": {},
   "outputs": [],
   "source": [
    "from PIL import Image, ImageDraw\n",
    "from IPython.display import display\n",
    "import face_recognition\n",
    "import numpy as np\n",
    "from PIL import Image, ImageDraw\n",
    "from IPython.display import display\n",
    "import cv2\n",
    "import glob\n",
    "    \n",
    "\n",
    "def take_camera_shot(source=0):\n",
    "    cap = cv2.VideoCapture(0) # video capture source camera (Here webcam of laptop) \n",
    "    ret,frame = cap.read() # return a single frame in variable `frame`\n",
    "    cv2.destroyAllWindows()\n",
    "    cap.release()\n",
    "    frame = cv2.cvtColor(frame, cv2.COLOR_BGR2RGB)\n",
    "    return frame\n",
    "\n",
    "def load_faces_from_folder(path):\n",
    "    image_list = []\n",
    "    names_list = []\n",
    "    for filename in glob.glob(path + '/*.jpg'):\n",
    "        name = filename.split('\\\\')[-1].split('.')[0]\n",
    "        im=face_recognition.load_image_file(filename)\n",
    "        image_list.append(im)\n",
    "        names_list.append(name)\n",
    "    return image_list, names_list;\n",
    "\n",
    "def encode_known_faces(known_faces_images):\n",
    "    known_faces_encodings = []\n",
    "    for img in known_faces_images:\n",
    "        face_encoding = face_recognition.face_encodings(img)[0]\n",
    "        known_faces_encodings.append(face_encoding)\n",
    "    return known_faces_encodings\n",
    "\n",
    "def initialize(path):\n",
    "    known_faces_images, known_faces_names = load_faces_from_folder(path)\n",
    "    known_faces_encodings = encode_known_faces(known_faces_images)\n",
    "    print('Learned encoding for', len(known_faces_encodings), 'images.')\n",
    "    \n",
    "    return known_faces_encodings, known_faces_names;\n",
    "\n",
    "def authorize(unknown_image, known_face_encodings, known_face_names, counter = 0):\n",
    "    #unknown_image = face_recognition.load_image_file(\"3.jpg\")\n",
    "\n",
    "    # Find all the faces and face encodings in the unknown image\n",
    "    face_locations = face_recognition.face_locations(unknown_image)\n",
    "    face_encodings = face_recognition.face_encodings(unknown_image, face_locations)\n",
    "\n",
    "    # Convert the image to a PIL-format image so that we can draw on top of it with the Pillow library\n",
    "    # See http://pillow.readthedocs.io/ for more about PIL/Pillow\n",
    "    pil_image = Image.fromarray(unknown_image)\n",
    "    # Create a Pillow ImageDraw Draw instance to draw with\n",
    "    draw = ImageDraw.Draw(pil_image)\n",
    "\n",
    "    # Loop through each face found in the unknown image\n",
    "    for (top, right, bottom, left), face_encoding in zip(face_locations, face_encodings):\n",
    "        # See if the face is a match for the known face(s)\n",
    "        matches = face_recognition.compare_faces(known_face_encodings, face_encoding)\n",
    "\n",
    "        name = \"Unknown\"\n",
    "\n",
    "        # Or instead, use the known face with the smallest distance to the new face\n",
    "        face_distances = face_recognition.face_distance(known_face_encodings, face_encoding)\n",
    "        best_match_index = np.argmin(face_distances)\n",
    "        if matches[best_match_index]:\n",
    "            name = known_face_names[best_match_index]\n",
    "\n",
    "        # Draw a box around the face using the Pillow module\n",
    "        draw.rectangle(((left, top), (right, bottom)), outline=(0, 0, 255))\n",
    "\n",
    "        # Draw a label with a name below the face\n",
    "        text_width, text_height = draw.textsize(name)\n",
    "        draw.rectangle(((left, bottom - text_height - 10), (right, bottom)), fill=(0, 0, 255), outline=(0, 0, 255))\n",
    "        draw.text((left + 6, bottom - text_height - 5), name, fill=(255, 255, 255, 255))\n",
    "\n",
    "\n",
    "    # Remove the drawing library from memory as per the Pillow docs\n",
    "    del draw\n",
    "\n",
    "    # Display the resulting image\n",
    "    display(pil_image)\n",
    "    pil_image.save(\"predict\" + str(counter) + \".jpg\")\n"
   ]
  },
  {
   "cell_type": "code",
   "execution_count": 14,
   "metadata": {},
   "outputs": [
    {
     "name": "stdout",
     "output_type": "stream",
     "text": [
      "Learned encoding for 14 images.\n"
     ]
    }
   ],
   "source": [
    "encodings, names = initialize(\"known_people\")"
   ]
  },
  {
   "cell_type": "code",
   "execution_count": 1,
   "metadata": {},
   "outputs": [
    {
     "ename": "NameError",
     "evalue": "name 'load_faces_from_folder' is not defined",
     "output_type": "error",
     "traceback": [
      "\u001b[1;31m---------------------------------------------------------------------------\u001b[0m",
      "\u001b[1;31mNameError\u001b[0m                                 Traceback (most recent call last)",
      "\u001b[1;32m<ipython-input-1-2219f6edb979>\u001b[0m in \u001b[0;36m<module>\u001b[1;34m\u001b[0m\n\u001b[0;32m      1\u001b[0m \u001b[0mcounter\u001b[0m \u001b[1;33m=\u001b[0m \u001b[1;36m1\u001b[0m\u001b[1;33m\u001b[0m\u001b[0m\n\u001b[1;32m----> 2\u001b[1;33m \u001b[0munknown_images\u001b[0m\u001b[1;33m,\u001b[0m \u001b[0mrandom\u001b[0m \u001b[1;33m=\u001b[0m \u001b[0mload_faces_from_folder\u001b[0m\u001b[1;33m(\u001b[0m\u001b[1;34m\"test\"\u001b[0m\u001b[1;33m)\u001b[0m\u001b[1;33m\u001b[0m\u001b[0m\n\u001b[0m\u001b[0;32m      3\u001b[0m \u001b[1;32mfor\u001b[0m \u001b[0mimg\u001b[0m \u001b[1;32min\u001b[0m \u001b[0munknown_images\u001b[0m\u001b[1;33m:\u001b[0m\u001b[1;33m\u001b[0m\u001b[0m\n\u001b[0;32m      4\u001b[0m     \u001b[0mauthorize\u001b[0m\u001b[1;33m(\u001b[0m\u001b[0mimg\u001b[0m\u001b[1;33m,\u001b[0m \u001b[0mencodings\u001b[0m\u001b[1;33m,\u001b[0m \u001b[0mnames\u001b[0m\u001b[1;33m,\u001b[0m \u001b[0mcounter\u001b[0m\u001b[1;33m)\u001b[0m\u001b[1;33m\u001b[0m\u001b[0m\n\u001b[0;32m      5\u001b[0m     \u001b[0mcounter\u001b[0m \u001b[1;33m=\u001b[0m \u001b[0mcounter\u001b[0m \u001b[1;33m+\u001b[0m \u001b[1;36m1\u001b[0m\u001b[1;33m\u001b[0m\u001b[0m\n",
      "\u001b[1;31mNameError\u001b[0m: name 'load_faces_from_folder' is not defined"
     ]
    }
   ],
   "source": [
    "counter = 1\n",
    "unknown_images, random = load_faces_from_folder(\"test\")\n",
    "for img in unknown_images:\n",
    "    authorize(img, encodings, names, counter)\n",
    "    counter = counter + 1"
   ]
  },
  {
   "cell_type": "code",
   "execution_count": 2,
   "metadata": {},
   "outputs": [
    {
     "ename": "NameError",
     "evalue": "name 'authorize' is not defined",
     "output_type": "error",
     "traceback": [
      "\u001b[1;31m---------------------------------------------------------------------------\u001b[0m",
      "\u001b[1;31mNameError\u001b[0m                                 Traceback (most recent call last)",
      "\u001b[1;32m<ipython-input-2-faa51afdceb6>\u001b[0m in \u001b[0;36m<module>\u001b[1;34m\u001b[0m\n\u001b[1;32m----> 1\u001b[1;33m \u001b[0mauthorize\u001b[0m\u001b[1;33m(\u001b[0m\u001b[0mtake_camera_shot\u001b[0m\u001b[1;33m(\u001b[0m\u001b[1;33m)\u001b[0m\u001b[1;33m,\u001b[0m \u001b[0mencodings\u001b[0m\u001b[1;33m,\u001b[0m \u001b[0mnames\u001b[0m\u001b[1;33m)\u001b[0m\u001b[1;33m\u001b[0m\u001b[0m\n\u001b[0m",
      "\u001b[1;31mNameError\u001b[0m: name 'authorize' is not defined"
     ]
    }
   ],
   "source": [
    "authorize(take_camera_shot(), encodings, names)"
   ]
  },
  {
   "cell_type": "code",
   "execution_count": null,
   "metadata": {},
   "outputs": [],
   "source": []
  }
 ],
 "metadata": {
  "kernelspec": {
   "display_name": "Python 3",
   "language": "python",
   "name": "python3"
  },
  "language_info": {
   "codemirror_mode": {
    "name": "ipython",
    "version": 3
   },
   "file_extension": ".py",
   "mimetype": "text/x-python",
   "name": "python",
   "nbconvert_exporter": "python",
   "pygments_lexer": "ipython3",
   "version": "3.6.6"
  }
 },
 "nbformat": 4,
 "nbformat_minor": 2
}
