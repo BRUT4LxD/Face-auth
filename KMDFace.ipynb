{
 "cells": [
  {
   "cell_type": "code",
   "execution_count": 2,
   "metadata": {},
   "outputs": [
    {
     "ename": "RuntimeError",
     "evalue": "Error while calling cudaGetDevice(&the_device_id) in file C:\\Users\\Z6PLT\\AppData\\Local\\Temp\\pip-install-l23j6xdc\\dlib\\dlib\\cuda\\gpu_data.cpp:201. code: 999, reason: unknown error",
     "output_type": "error",
     "traceback": [
      "\u001b[1;31m---------------------------------------------------------------------------\u001b[0m",
      "\u001b[1;31mRuntimeError\u001b[0m                              Traceback (most recent call last)",
      "\u001b[1;32m<ipython-input-2-6819bf7e3ff1>\u001b[0m in \u001b[0;36m<module>\u001b[1;34m\u001b[0m\n\u001b[0;32m      1\u001b[0m \u001b[1;32mfrom\u001b[0m \u001b[0mPIL\u001b[0m \u001b[1;32mimport\u001b[0m \u001b[0mImage\u001b[0m\u001b[1;33m,\u001b[0m \u001b[0mImageDraw\u001b[0m\u001b[1;33m\u001b[0m\u001b[0m\n\u001b[0;32m      2\u001b[0m \u001b[1;32mfrom\u001b[0m \u001b[0mIPython\u001b[0m\u001b[1;33m.\u001b[0m\u001b[0mdisplay\u001b[0m \u001b[1;32mimport\u001b[0m \u001b[0mdisplay\u001b[0m\u001b[1;33m\u001b[0m\u001b[0m\n\u001b[1;32m----> 3\u001b[1;33m \u001b[1;32mimport\u001b[0m \u001b[0mface_recognition\u001b[0m\u001b[1;33m\u001b[0m\u001b[0m\n\u001b[0m\u001b[0;32m      4\u001b[0m \u001b[1;32mimport\u001b[0m \u001b[0mnumpy\u001b[0m \u001b[1;32mas\u001b[0m \u001b[0mnp\u001b[0m\u001b[1;33m\u001b[0m\u001b[0m\n\u001b[0;32m      5\u001b[0m \u001b[1;32mfrom\u001b[0m \u001b[0mPIL\u001b[0m \u001b[1;32mimport\u001b[0m \u001b[0mImage\u001b[0m\u001b[1;33m,\u001b[0m \u001b[0mImageDraw\u001b[0m\u001b[1;33m\u001b[0m\u001b[0m\n",
      "\u001b[1;32m~\\Desktop\\Moje\\ML\\KMD-FaceDetection\\face_recognition\\face_recognition\\__init__.py\u001b[0m in \u001b[0;36m<module>\u001b[1;34m\u001b[0m\n\u001b[0;32m      5\u001b[0m \u001b[0m__version__\u001b[0m \u001b[1;33m=\u001b[0m \u001b[1;34m'1.2.3'\u001b[0m\u001b[1;33m\u001b[0m\u001b[0m\n\u001b[0;32m      6\u001b[0m \u001b[1;33m\u001b[0m\u001b[0m\n\u001b[1;32m----> 7\u001b[1;33m \u001b[1;32mfrom\u001b[0m \u001b[1;33m.\u001b[0m\u001b[0mapi\u001b[0m \u001b[1;32mimport\u001b[0m \u001b[0mload_image_file\u001b[0m\u001b[1;33m,\u001b[0m \u001b[0mface_locations\u001b[0m\u001b[1;33m,\u001b[0m \u001b[0mbatch_face_locations\u001b[0m\u001b[1;33m,\u001b[0m \u001b[0mface_landmarks\u001b[0m\u001b[1;33m,\u001b[0m \u001b[0mface_encodings\u001b[0m\u001b[1;33m,\u001b[0m \u001b[0mcompare_faces\u001b[0m\u001b[1;33m,\u001b[0m \u001b[0mface_distance\u001b[0m\u001b[1;33m\u001b[0m\u001b[0m\n\u001b[0m",
      "\u001b[1;32m~\\Desktop\\Moje\\ML\\KMD-FaceDetection\\face_recognition\\face_recognition\\api.py\u001b[0m in \u001b[0;36m<module>\u001b[1;34m\u001b[0m\n\u001b[0;32m     24\u001b[0m \u001b[1;33m\u001b[0m\u001b[0m\n\u001b[0;32m     25\u001b[0m \u001b[0mcnn_face_detection_model\u001b[0m \u001b[1;33m=\u001b[0m \u001b[0mface_recognition_models\u001b[0m\u001b[1;33m.\u001b[0m\u001b[0mcnn_face_detector_model_location\u001b[0m\u001b[1;33m(\u001b[0m\u001b[1;33m)\u001b[0m\u001b[1;33m\u001b[0m\u001b[0m\n\u001b[1;32m---> 26\u001b[1;33m \u001b[0mcnn_face_detector\u001b[0m \u001b[1;33m=\u001b[0m \u001b[0mdlib\u001b[0m\u001b[1;33m.\u001b[0m\u001b[0mcnn_face_detection_model_v1\u001b[0m\u001b[1;33m(\u001b[0m\u001b[0mcnn_face_detection_model\u001b[0m\u001b[1;33m)\u001b[0m\u001b[1;33m\u001b[0m\u001b[0m\n\u001b[0m\u001b[0;32m     27\u001b[0m \u001b[1;33m\u001b[0m\u001b[0m\n\u001b[0;32m     28\u001b[0m \u001b[0mface_recognition_model\u001b[0m \u001b[1;33m=\u001b[0m \u001b[0mface_recognition_models\u001b[0m\u001b[1;33m.\u001b[0m\u001b[0mface_recognition_model_location\u001b[0m\u001b[1;33m(\u001b[0m\u001b[1;33m)\u001b[0m\u001b[1;33m\u001b[0m\u001b[0m\n",
      "\u001b[1;31mRuntimeError\u001b[0m: Error while calling cudaGetDevice(&the_device_id) in file C:\\Users\\Z6PLT\\AppData\\Local\\Temp\\pip-install-l23j6xdc\\dlib\\dlib\\cuda\\gpu_data.cpp:201. code: 999, reason: unknown error"
     ]
    }
   ],
   "source": [
    "from PIL import Image, ImageDraw\n",
    "from IPython.display import display\n",
    "import face_recognition\n",
    "import numpy as np\n",
    "from PIL import Image, ImageDraw\n",
    "from IPython.display import display\n",
    "import cv2\n",
    "import glob\n",
    "    \n",
    "\n",
    "def take_camera_shot(source=0):\n",
    "    cap = cv2.VideoCapture(0) # video capture source camera (Here webcam of laptop) \n",
    "    ret,frame = cap.read() # return a single frame in variable `frame`\n",
    "    cv2.destroyAllWindows()\n",
    "    cap.release()\n",
    "    frame = cv2.cvtColor(frame, cv2.COLOR_BGR2RGB)\n",
    "    return frame\n",
    "\n",
    "def load_faces_from_folder(path):\n",
    "    image_list = []\n",
    "    names_list = []\n",
    "    for filename in glob.glob(path + '/*.jpg'):\n",
    "        name = filename.split('\\\\')[-1].split('.')[0]\n",
    "        im=face_recognition.load_image_file(filename)\n",
    "        image_list.append(im)\n",
    "        names_list.append(name)\n",
    "    return image_list, names_list;\n",
    "\n",
    "def encode_known_faces(known_faces_images):\n",
    "    known_faces_encodings = []\n",
    "    for img in known_faces_images:\n",
    "        face_encoding = face_recognition.face_encodings(img)[0]\n",
    "        known_faces_encodings.append(face_encoding)\n",
    "    return known_faces_encodings\n",
    "\n",
    "def initialize(path):\n",
    "    known_faces_images, known_faces_names = load_faces_from_folder(path)\n",
    "    known_faces_encodings = encode_known_faces(known_faces_images)\n",
    "    print('Learned encoding for', len(known_faces_encodings), 'images.')\n",
    "    \n",
    "    return known_faces_encodings, known_faces_names;\n",
    "\n",
    "def authorize(unknown_image, known_face_encodings, known_face_names, counter = 0):\n",
    "    #unknown_image = face_recognition.load_image_file(\"3.jpg\")\n",
    "\n",
    "    # Find all the faces and face encodings in the unknown image\n",
    "    face_locations = face_recognition.face_locations(unknown_image)\n",
    "    face_encodings = face_recognition.face_encodings(unknown_image, face_locations)\n",
    "\n",
    "    # Convert the image to a PIL-format image so that we can draw on top of it with the Pillow library\n",
    "    # See http://pillow.readthedocs.io/ for more about PIL/Pillow\n",
    "    pil_image = Image.fromarray(unknown_image)\n",
    "    # Create a Pillow ImageDraw Draw instance to draw with\n",
    "    draw = ImageDraw.Draw(pil_image)\n",
    "\n",
    "    # Loop through each face found in the unknown image\n",
    "    for (top, right, bottom, left), face_encoding in zip(face_locations, face_encodings):\n",
    "        # See if the face is a match for the known face(s)\n",
    "        matches = face_recognition.compare_faces(known_face_encodings, face_encoding)\n",
    "\n",
    "        name = \"Unknown\"\n",
    "\n",
    "        # Or instead, use the known face with the smallest distance to the new face\n",
    "        face_distances = face_recognition.face_distance(known_face_encodings, face_encoding)\n",
    "        best_match_index = np.argmin(face_distances)\n",
    "        if matches[best_match_index]:\n",
    "            name = known_face_names[best_match_index]\n",
    "\n",
    "        # Draw a box around the face using the Pillow module\n",
    "        draw.rectangle(((left, top), (right, bottom)), outline=(0, 0, 255))\n",
    "\n",
    "        # Draw a label with a name below the face\n",
    "        text_width, text_height = draw.textsize(name)\n",
    "        draw.rectangle(((left, bottom - text_height - 10), (right, bottom)), fill=(0, 0, 255), outline=(0, 0, 255))\n",
    "        draw.text((left + 6, bottom - text_height - 5), name, fill=(255, 255, 255, 255))\n",
    "\n",
    "\n",
    "    # Remove the drawing library from memory as per the Pillow docs\n",
    "    del draw\n",
    "\n",
    "    # Display the resulting image\n",
    "    display(pil_image)\n",
    "    pil_image.save(\"predict\" + str(counter) + \".jpg\")\n"
   ]
  },
  {
   "cell_type": "code",
   "execution_count": null,
   "metadata": {},
   "outputs": [],
   "source": [
    "encodings, names = initialize(\"known_people\")"
   ]
  },
  {
   "cell_type": "code",
   "execution_count": null,
   "metadata": {},
   "outputs": [],
   "source": [
    "counter = 1\n",
    "unknown_images, random = load_faces_from_folder(\"test\")\n",
    "for img in unknown_images:\n",
    "    authorize(img, encodings, names, counter)\n",
    "    counter = counter + 1"
   ]
  },
  {
   "cell_type": "code",
   "execution_count": null,
   "metadata": {},
   "outputs": [],
   "source": [
    "authorize(take_camera_shot(), encodings, names)"
   ]
  },
  {
   "cell_type": "code",
   "execution_count": null,
   "metadata": {},
   "outputs": [],
   "source": []
  }
 ],
 "metadata": {
  "kernelspec": {
   "display_name": "Python 3",
   "language": "python",
   "name": "python3"
  },
  "language_info": {
   "codemirror_mode": {
    "name": "ipython",
    "version": 3
   },
   "file_extension": ".py",
   "mimetype": "text/x-python",
   "name": "python",
   "nbconvert_exporter": "python",
   "pygments_lexer": "ipython3",
   "version": "3.6.6"
  }
 },
 "nbformat": 4,
 "nbformat_minor": 2
}
